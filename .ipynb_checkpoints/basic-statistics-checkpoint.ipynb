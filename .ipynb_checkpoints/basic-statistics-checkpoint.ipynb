{
 "cells": [
  {
   "cell_type": "markdown",
   "metadata": {},
   "source": [
    "# Simple Summary of the Magic Café Dataset"
   ]
  },
  {
   "cell_type": "code",
   "execution_count": 21,
   "metadata": {},
   "outputs": [],
   "source": [
    "import json\n",
    "import pandas as pd"
   ]
  },
  {
   "cell_type": "markdown",
   "metadata": {},
   "source": [
    "### Average number of posts per thread"
   ]
  },
  {
   "cell_type": "code",
   "execution_count": 15,
   "metadata": {},
   "outputs": [],
   "source": [
    "post_sum = 0\n",
    "thread_count = 0\n",
    "with open('./data/themagiccafe_all_clean.jsonlines') as input_file:\n",
    "    for row in input_file:\n",
    "        data = json.loads(row)\n",
    "        thread_count += 1\n",
    "        post_sum += len(data['posts'])"
   ]
  },
  {
   "cell_type": "code",
   "execution_count": 16,
   "metadata": {},
   "outputs": [
    {
     "name": "stdout",
     "output_type": "stream",
     "text": [
      "Total Threads: 321463\n",
      "Total Posts: 6029642\n",
      "Average Posts per Thread: 18.76\n"
     ]
    }
   ],
   "source": [
    "print(f\"Total Threads: {thread_count}\")\n",
    "print(f\"Total Posts: {post_sum}\")\n",
    "print(f\"Average Posts per Thread: {post_sum/thread_count:.2f}\")"
   ]
  },
  {
   "cell_type": "markdown",
   "metadata": {},
   "source": [
    "### Most popular Subforum"
   ]
  },
  {
   "cell_type": "code",
   "execution_count": 56,
   "metadata": {},
   "outputs": [
    {
     "name": "stdout",
     "output_type": "stream",
     "text": [
      "The workers 25534\n",
      "Penny for your thoughts 23259\n",
      "Not very magical, still... 20599\n",
      "Latest and Greatest? 16486\n",
      "Tricks & Effects 13564\n",
      "Nothing up my sleeve... 11094\n",
      "The spooky, the mysterious...the bizarre! 10937\n",
      "Our new arrivals 10803\n",
      "The little darlings 10329\n",
      "Grand illusion 8638\n"
     ]
    }
   ],
   "source": [
    "subforum_counts = {}\n",
    "\n",
    "with open('./data/themagiccafe_all_clean.jsonlines') as input_file:\n",
    "    for row in input_file:\n",
    "        data = json.loads(row)\n",
    "        try:\n",
    "            subforum_name = data['title'][1]\n",
    "        except:\n",
    "            continue\n",
    "        subforum_counts[subforum_name] = subforum_counts.get(subforum_name, 0) + 1\n"
   ]
  },
  {
   "cell_type": "code",
   "execution_count": 58,
   "metadata": {},
   "outputs": [
    {
     "name": "stdout",
     "output_type": "stream",
     "text": [
      "1 The workers 25534\n",
      "2 Penny for your thoughts 23259\n",
      "3 Not very magical, still... 20599\n",
      "4 Latest and Greatest? 16486\n",
      "5 Tricks & Effects 13564\n",
      "6 Nothing up my sleeve... 11094\n",
      "7 The spooky, the mysterious...the bizarre! 10937\n",
      "8 Our new arrivals 10803\n",
      "9 The little darlings 10329\n",
      "10 Grand illusion 8638\n"
     ]
    }
   ],
   "source": [
    "sorted_counts = sorted(subforum_counts.items(), key=lambda x: x[1])\n",
    "for i, k in enumerate(sorted_counts[::-1][:10]):\n",
    "    print(i+1, k[0], k[1])"
   ]
  },
  {
   "cell_type": "markdown",
   "metadata": {},
   "source": [
    "### Thread with the most posts"
   ]
  },
  {
   "cell_type": "code",
   "execution_count": 39,
   "metadata": {},
   "outputs": [],
   "source": [
    "max_posts = None\n",
    "thread = None\n",
    "max_thread_name = None\n",
    "\n",
    "all_counts = []\n",
    "\n",
    "with open('./data/themagiccafe_all_clean.jsonlines') as input_file:\n",
    "    for row in input_file:\n",
    "        data = json.loads(row)\n",
    "        try:\n",
    "            thread_name = \" >> \".join(data['title'])\n",
    "        except:\n",
    "            continue\n",
    "        all_counts.append({'title': thread_name, 'count': len(data['posts']), 'link': data['link']})\n",
    "        if max_posts is None or len(data['posts']) > max_posts:\n",
    "            max_posts = len(data['posts'])\n",
    "            max_thread_name = \" >> \".join(data['title'])\n",
    "            thread = data"
   ]
  },
  {
   "cell_type": "code",
   "execution_count": 40,
   "metadata": {},
   "outputs": [
    {
     "name": "stdout",
     "output_type": "stream",
     "text": [
      "Thread with the Most Posts The Magic Cafe Forum Index >> Not very magical, still... >> Answer a Question with a Question\n",
      "Post Count: 25012\n",
      "link: https://www.themagiccafe.com/forums/viewtopic.php?topic=250916&forum=32\n"
     ]
    }
   ],
   "source": [
    "print(f\"Thread with the Most Posts {max_thread_name}\")\n",
    "print(f\"Post Count: {max_posts}\")\n",
    "print(f\"link: {thread['link']}\")"
   ]
  },
  {
   "cell_type": "code",
   "execution_count": 48,
   "metadata": {},
   "outputs": [
    {
     "name": "stdout",
     "output_type": "stream",
     "text": [
      "Rank: 1 Count: 25012\n",
      "Title: The Magic Cafe Forum Index >> Not very magical, still... >> Answer a Question with a Question\n",
      " Link: https://www.themagiccafe.com/forums/viewtopic.php?topic=250916&forum=32\n",
      "\n",
      "Rank: 2 Count: 13703\n",
      "Title: The Magic Cafe Forum Index >> The workers >> Card Trick Game\n",
      " Link: https://www.themagiccafe.com/forums/viewtopic.php?topic=181702&forum=2\n",
      "\n",
      "Rank: 3 Count: 11651\n",
      "Title: The Magic Cafe Forum Index >> Not very magical, still... >> New Game: You're Banned\n",
      " Link: https://www.themagiccafe.com/forums/viewtopic.php?topic=385331&forum=32&start=0\n",
      "\n",
      "Rank: 4 Count: 8620\n",
      "Title: The Magic Cafe Forum Index >> Now that’s funny! >> Gag tag\n",
      " Link: https://www.themagiccafe.com/forums/viewtopic.php?topic=230576&forum=24\n",
      "\n",
      "Rank: 5 Count: 8359\n",
      "Title: The Magic Cafe Forum Index >> Now that’s funny! >> Three words  TOPIC IS LOCKED\n",
      " Link: https://www.themagiccafe.com/forums/viewtopic.php?topic=247474&forum=24\n",
      "\n",
      "Rank: 6 Count: 7884\n",
      "Title: The Magic Cafe Forum Index >> Now that’s funny! >> Give me five\n",
      " Link: https://www.themagiccafe.com/forums/viewtopic.php?topic=327332&forum=24\n",
      "\n",
      "Rank: 7 Count: 7126\n",
      "Title: The Magic Cafe Forum Index >> Not very magical, still... >> Two words...\n",
      " Link: https://www.themagiccafe.com/forums/viewtopic.php?topic=352338&forum=32\n",
      "\n",
      "Rank: 8 Count: 6652\n",
      "Title: The Magic Cafe Forum Index >> Now that’s funny! >> The alphabet game  TOPIC IS LOCKED\n",
      " Link: https://www.themagiccafe.com/forums/viewtopic.php?topic=250953&forum=24\n",
      "\n",
      "Rank: 9 Count: 6615\n",
      "Title: The Magic Cafe Forum Index >> Now that’s funny!\n",
      " Link: https://www.themagiccafe.com/forums/viewtopic.php?topic=330272&forum=24\n",
      "\n",
      "Rank: 10 Count: 5281\n",
      "Title: The Magic Cafe Forum Index >> Now that’s funny! >> Why is it that???\n",
      " Link: https://www.themagiccafe.com/forums/viewtopic.php?topic=278537&forum=24\n",
      "\n"
     ]
    }
   ],
   "source": [
    "all_counts2 = sorted(all_counts, key=lambda x: x['count'])\n",
    "\n",
    "for i, x in enumerate(all_counts2[::-1][:10]):\n",
    "    print(f\"Rank: {i+1} Count: {x['count']}\\nTitle: {x['title']}\\n Link: {x['link']}\\n\")"
   ]
  },
  {
   "cell_type": "markdown",
   "metadata": {},
   "source": [
    "### Longest Post"
   ]
  },
  {
   "cell_type": "code",
   "execution_count": 49,
   "metadata": {},
   "outputs": [
    {
     "name": "stdout",
     "output_type": "stream",
     "text": [
      "Longest Post Word Count: 31977\n",
      "Post Title: ['The Magic Cafe Forum Index', 'Ever so sleightly', 'Sponge ball routines']\n",
      "Post Link: https://www.themagiccafe.com/forums/viewtopic.php?topic=488112&forum=115\n"
     ]
    }
   ],
   "source": [
    "post = None\n",
    "long_post = None\n",
    "\n",
    "with open('./data/themagiccafe_all_clean.jsonlines') as input_file:\n",
    "    for row in input_file:\n",
    "        data = json.loads(row)\n",
    "        for p in data['posts']:\n",
    "            p_len = len(p['post'].split())\n",
    "            if long_post is None or p_len > long_post:\n",
    "                long_post = p_len\n",
    "                post = data\n",
    "                \n",
    "print(f\"Longest Post Word Count: {long_post}\")\n",
    "print(f\"Post Title: {post['title']}\")\n",
    "print(f\"Post Link: {post['link']}\")"
   ]
  },
  {
   "cell_type": "markdown",
   "metadata": {},
   "source": [
    "### OTHER"
   ]
  },
  {
   "cell_type": "code",
   "execution_count": null,
   "metadata": {},
   "outputs": [],
   "source": [
    "# The title is messed up slightly for ~15k posts. This will be fixed in a future release.\n",
    "cnt = 0\n",
    "with open('./data/themagiccafe_all_clean.jsonlines') as input_file:\n",
    "    for row in input_file:\n",
    "        data = json.loads(row)\n",
    "        if 'title' in data:\n",
    "            if len(data['title']) <= 2:\n",
    "                cnt += 1\n",
    "print(cnt)"
   ]
  }
 ],
 "metadata": {
  "kernelspec": {
   "display_name": "Python 3",
   "language": "python",
   "name": "python3"
  },
  "language_info": {
   "codemirror_mode": {
    "name": "ipython",
    "version": 3
   },
   "file_extension": ".py",
   "mimetype": "text/x-python",
   "name": "python",
   "nbconvert_exporter": "python",
   "pygments_lexer": "ipython3",
   "version": "3.8.3"
  }
 },
 "nbformat": 4,
 "nbformat_minor": 4
}
